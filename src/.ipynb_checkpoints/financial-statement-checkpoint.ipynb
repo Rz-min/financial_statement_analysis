{
 "cells": [
  {
   "cell_type": "markdown",
   "id": "1a55876c-2a84-4708-a269-753628125308",
   "metadata": {
    "tags": []
   },
   "source": [
    "# 財務諸表分析をやってみた\n",
    "- モチベーション\n",
    "　　財務諸表についての講義を受けて、学んだことをきっかけに何か一つアクションを起こしたいと思ったから。"
   ]
  },
  {
   "cell_type": "code",
   "execution_count": 3,
   "id": "e94f5b00-a7ca-4b6c-be87-2d0f1287fb04",
   "metadata": {},
   "outputs": [],
   "source": [
    "import os\n",
    "import pickle\n",
    "import sys\n",
    "import warnings\n",
    "from glob import glob\n",
    "\n",
    "import matplotlib\n",
    "import matplotlib.pyplot as plt\n",
    "import numpy as np\n",
    "import pandas as pd\n",
    "import seaborn as sns\n",
    "import shap\n",
    "import xgboost\n",
    "from scipy.stats import spearmanr\n",
    "from sklearn.ensemble import (\n",
    "    ExtraTreesRegressor,\n",
    "    GradientBoostingRegressor,\n",
    "    RandomForestRegressor,\n",
    ")\n",
    "from sklearn.metrics import accuracy_score, mean_squared_error\n",
    "from tqdm.auto import tqdm\n",
    "\n",
    "\n",
    "# 表示用の設定を変更します\n",
    "%matplotlib inline\n",
    "pd.options.display.max_rows = 100\n",
    "pd.options.display.max_columns = 100\n",
    "pd.options.display.width = 120"
   ]
  },
  {
   "cell_type": "code",
   "execution_count": 4,
   "id": "43f5d976-128a-49ea-9e11-4ec361c91a39",
   "metadata": {},
   "outputs": [
    {
     "name": "stdout",
     "output_type": "stream",
     "text": [
      "3.9.12 | packaged by conda-forge | (main, Mar 24 2022, 23:25:59) \n",
      "[GCC 10.3.0]\n"
     ]
    }
   ],
   "source": [
    "print(sys.version)"
   ]
  },
  {
   "cell_type": "code",
   "execution_count": 17,
   "id": "ced457ad-a618-4e5f-a08b-2c4f257ad84d",
   "metadata": {},
   "outputs": [
    {
     "name": "stdout",
     "output_type": "stream",
     "text": [
      "stock_fin_price\n"
     ]
    }
   ],
   "source": [
    "dataset_dir=\"../data_set\"\n",
    "\n",
    "input = {\n",
    "    \"stock_fin_price\": f\"{dataset_dir}/stock_list.csv\"\n",
    "}\n",
    "\n",
    "dfs = {}\n",
    "for k, v in input.items():\n",
    "    print(k)\n",
    "    dfs[k] = pd.read_csv(v)\n",
    "    # DataFrameのindexを設定します。\n",
    "    if k == \"stock_price\":\n",
    "        dfs[k].loc[:, \"datetime\"] = pd.to_datetime(\n",
    "            dfs[k].loc[:, \"EndOfDayQuote Date\"]\n",
    "        )\n",
    "        dfs[k].set_index(\"datetime\", inplace=True)\n",
    "    elif k in [\"stock_fin\", \"stock_fin_price\", \"stock_labels\"]:\n",
    "        break"
   ]
  },
  {
   "cell_type": "code",
   "execution_count": null,
   "id": "4a1fd437-d7c5-409c-941b-6dba3663a7da",
   "metadata": {},
   "outputs": [],
   "source": []
  }
 ],
 "metadata": {
  "kernelspec": {
   "display_name": "Python 3 (ipykernel)",
   "language": "python",
   "name": "python3"
  },
  "language_info": {
   "codemirror_mode": {
    "name": "ipython",
    "version": 3
   },
   "file_extension": ".py",
   "mimetype": "text/x-python",
   "name": "python",
   "nbconvert_exporter": "python",
   "pygments_lexer": "ipython3",
   "version": "3.9.12"
  }
 },
 "nbformat": 4,
 "nbformat_minor": 5
}
